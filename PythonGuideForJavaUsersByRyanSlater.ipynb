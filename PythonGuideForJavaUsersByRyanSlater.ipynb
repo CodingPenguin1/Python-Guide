{
 "cells": [
  {
   "cell_type": "markdown",
   "metadata": {},
   "source": [
    "# Introductory Python Tutorial for Java Users\n",
    "### Ryan J. Slater\n",
    "\n",
    "This guide is designed to be an introduction to the fundamentals of the Python language, with the basics of some useful modules as well. It is designed for programmers who know Java, with the intention of introducing imperative programming and the largely different syntax of Python. As you read through this guide, experiment by changing any lines of code as you wish, then press Shift+Enter to run that line alone. While this guide is fairly comprehensive, it does not cover all aspects of Python (which would frankly be quite near impossible anyways), so self-experimentation and discovery is essential. This guide is broken into many chapters, each of which focuses on a specific topic necessary to understanding the Python language. Some chapters are broken into sections to explain subtopics in more detail."
   ]
  },
  {
   "cell_type": "markdown",
   "metadata": {},
   "source": [
    "## Chapter 1: Numerical Data Types and Basic Mathematical Operations\n",
    "\n",
    "Java contains many numerical data types, such as ints, doubles, floats, shorts, and longs. In Python, this is not the case. There are simply ints and floats. Unlike Java, there is no max size for an either, meaning that an int or float can have a value near infinity. Note there is no need to begin a line by declaring a variable type, as Python automatically determines the variable type from the value assigned. Also note that Python syntax is based of indentation, (you will learn about indenting in chapter 3) so no semicolon is needed at the end of each line."
   ]
  },
  {
   "cell_type": "code",
   "execution_count": 1,
   "metadata": {},
   "outputs": [],
   "source": [
    "x = 5 # This is the equivalent of: int x = 5;\n",
    "y = 10.5 # This is the eqivalent of: double y = 10.5;"
   ]
  },
  {
   "cell_type": "markdown",
   "metadata": {},
   "source": [
    "Excluding exponents, basic math is done the same as in Java. Again, note that there is no need to declare variable types, as Python handles variable types automatically."
   ]
  },
  {
   "cell_type": "code",
   "execution_count": 2,
   "metadata": {},
   "outputs": [
    {
     "name": "stdout",
     "output_type": "stream",
     "text": [
      "3\n",
      "1\n",
      "6\n",
      "0.6666666666666666\n",
      "1\n",
      "9\n"
     ]
    }
   ],
   "source": [
    "print(1 + 2) # Addition\n",
    "print(2 - 1) # Subtraction\n",
    "print(2 * 3) # Multiplication\n",
    "print(2 / 3) # Division (note int/int=float in this example)\n",
    "print(3 % 2) # Modulus\n",
    "print(3 ** 2) # Exponents, format: base**exponent"
   ]
  },
  {
   "cell_type": "markdown",
   "metadata": {},
   "source": [
    "To cast a variable as an int or float, use the int() or float() functions, respectively."
   ]
  },
  {
   "cell_type": "code",
   "execution_count": 3,
   "metadata": {},
   "outputs": [],
   "source": [
    "x = int(x)\n",
    "y = float(y)"
   ]
  },
  {
   "cell_type": "markdown",
   "metadata": {},
   "source": [
    "## Chapter 2: Strings and Printing\n",
    "Strings are declared with the same syntax as ints and floats. Like Java, use double quotes (\" \") to declare a string. However, unlike Java, single quotes (' ') can also be used to declare a string. This is because that there is no char variable type in Python."
   ]
  },
  {
   "cell_type": "code",
   "execution_count": 4,
   "metadata": {},
   "outputs": [],
   "source": [
    "myString = \"Hello lovely reader\"\n",
    "mySecondString = 'I hope you are enjoying this guide so far!'"
   ]
  },
  {
   "cell_type": "markdown",
   "metadata": {},
   "source": [
    "Escape characters are the same as in Java. For example:\n",
    "* \\n - newline\n",
    "* \\t - tab\n",
    "* \\b - backspace\n",
    "* \\\\\\ - backslash\n",
    "* \\\" - double quote (useful if adding a double quote in a string declared with double quotes)\n",
    "* \\' - single quote (useful if adding a single quote in a string declared with single quotes)"
   ]
  },
  {
   "cell_type": "code",
   "execution_count": 5,
   "metadata": {},
   "outputs": [
    {
     "name": "stdout",
     "output_type": "stream",
     "text": [
      "Dear Reader,\n",
      "\n",
      "I'm enjoying writing this guide for you.\n",
      "One of my friends once asked, \"Why would you learn Python instead of Java?\"\n",
      "That's what inspired me to write this guidee\b.\n",
      "I hope you enjoy it and gain some valuable knowledge about the benefits of Python!\n",
      "\n",
      "\tSincerely,\n",
      "\tRyan Slater\n"
     ]
    }
   ],
   "source": [
    "print('Dear Reader,\\n')\n",
    "print('I\\'m enjoying writing this guide for you.')\n",
    "print(\"One of my friends once asked, \\\"Why would you learn Python instead of Java?\\\"\")\n",
    "print('That\\'s what inspired me to write this guidee\\b.')\n",
    "print('I hope you enjoy it and gain some valuable knowledge about the benefits of Python!')\n",
    "print('\\n\\tSincerely,\\n\\tRyan Slater')"
   ]
  },
  {
   "cell_type": "markdown",
   "metadata": {},
   "source": [
    "So if print() is the Python equivalent of Java's System.out.println(), then what's the Python equivalent of System.out.print()? Well, Python does have a way of printing a string without a newline attached, though I must admit it's a little uglier than Java's way."
   ]
  },
  {
   "cell_type": "code",
   "execution_count": 6,
   "metadata": {},
   "outputs": [
    {
     "name": "stdout",
     "output_type": "stream",
     "text": [
      "These two lines of code will be printed on on line\n"
     ]
    }
   ],
   "source": [
    "print('These two lines of code ', end='')\n",
    "print('will be printed on on line')"
   ]
  },
  {
   "cell_type": "markdown",
   "metadata": {},
   "source": [
    "Though this may seem unnecessary at first, it actually introduces new functionality to the print statement. The default value of \"end\" is '\\n', so the following two lines are equivalent."
   ]
  },
  {
   "cell_type": "code",
   "execution_count": 7,
   "metadata": {},
   "outputs": [
    {
     "name": "stdout",
     "output_type": "stream",
     "text": [
      "This is a standard print statement\n",
      "This is a standard print statement\n",
      "See? I was printed on a third line as expected\n"
     ]
    }
   ],
   "source": [
    "print('This is a standard print statement')\n",
    "print('This is a standard print statement', end='\\n')\n",
    "print('See? I was printed on a third line as expected')"
   ]
  },
  {
   "cell_type": "markdown",
   "metadata": {},
   "source": [
    "This functionality is useful for many things. Say, for example, you wanted to print a table. You could do the following:"
   ]
  },
  {
   "cell_type": "code",
   "execution_count": 8,
   "metadata": {},
   "outputs": [
    {
     "name": "stdout",
     "output_type": "stream",
     "text": [
      "How does my AP Computer Science class rate Python?\n",
      "\n",
      "Rating\t\t | 1 | 2 | 3 | 4 | 5 | \n",
      "-----------------+---+---+---+---+---+\n",
      "# of students\t | 0 | 0 | 3 | 2 | 8 | "
     ]
    }
   ],
   "source": [
    "print('How does my AP Computer Science class rate Python?\\n')\n",
    "print('Rating\\t\\t', end=' | ')\n",
    "print('1', end=' | ')\n",
    "print('2', end=' | ')\n",
    "print('3', end=' | ')\n",
    "print('4', end=' | ')\n",
    "print('5', end=' | ')\n",
    "print('\\n-----------------+---+---+---+---+---+')\n",
    "print('# of students\\t', end=' | ')\n",
    "print('0', end=' | ')\n",
    "print('0', end=' | ')\n",
    "print('3', end=' | ')\n",
    "print('2', end=' | ')\n",
    "print('8', end=' | ')"
   ]
  },
  {
   "cell_type": "markdown",
   "metadata": {},
   "source": [
    "That's looking great, but I can't do anything with those numbers! They're just hardcoded strings! How do I print nonstring variables? Python can print variables in two ways: alone or concatenated with a string. Here is how to print one or more variables without formatting (useful for debugging by printing multiple variables one one line):"
   ]
  },
  {
   "cell_type": "code",
   "execution_count": 9,
   "metadata": {},
   "outputs": [
    {
     "name": "stdout",
     "output_type": "stream",
     "text": [
      "5\n",
      "5 10.5\n",
      "5 10.5 10.3\n"
     ]
    }
   ],
   "source": [
    "x = 5\n",
    "y = 10.5\n",
    "print(x)          # Printing just one variable\n",
    "print(x, y)       # Printing two variables in one line. The comma adds space between the two. \n",
    "print(x, y, 10.3) # Add more commas and variables to print more variables on one line"
   ]
  },
  {
   "cell_type": "markdown",
   "metadata": {},
   "source": [
    "Python uses the same syntax for string concatenation as Java:"
   ]
  },
  {
   "cell_type": "code",
   "execution_count": 10,
   "metadata": {},
   "outputs": [
    {
     "name": "stdout",
     "output_type": "stream",
     "text": [
      "Hello there\n"
     ]
    }
   ],
   "source": [
    "combo = 'Hello ' + 'there'\n",
    "print(combo)"
   ]
  },
  {
   "cell_type": "markdown",
   "metadata": {},
   "source": [
    "However, to print a string and a nonstring through concatenation, you must cast the nonstring to a string first. This is not true with Java, and admittedly a nice feature I with Python supported. To cast a variable as a string in Python, use the str() function. Below is the Python equivalent of this Java code:\n",
    "\n",
    "int x = 5;<br>System.out.println(\"x = \" + x);<br>System.out.println(x + \" - 3 = \" + (x-3));"
   ]
  },
  {
   "cell_type": "code",
   "execution_count": 11,
   "metadata": {},
   "outputs": [
    {
     "name": "stdout",
     "output_type": "stream",
     "text": [
      "x = 5\n",
      "5 - 3 = 2\n"
     ]
    }
   ],
   "source": [
    "x = 5\n",
    "print('x = ' + str(x))\n",
    "print(str(x) + ' - 3 = ' + str(x-3))"
   ]
  },
  {
   "cell_type": "markdown",
   "metadata": {},
   "source": [
    "In Java, there is a .contains() method for strings, which allows you to determine if a string is contained in another string. Python has an equivalent keyword: \"in\". Don't worry too much if you aren't familiar with the if statement yet, as you will cover them in chapter 3."
   ]
  },
  {
   "cell_type": "code",
   "execution_count": 12,
   "metadata": {},
   "outputs": [
    {
     "name": "stdout",
     "output_type": "stream",
     "text": [
      "Found it!\n"
     ]
    }
   ],
   "source": [
    "myString = 'This is my string'\n",
    "if 'my' in myString:\n",
    "    print('Found it!')"
   ]
  },
  {
   "cell_type": "markdown",
   "metadata": {},
   "source": [
    "## Chapter 3: Boolean Variables and if Statements\n",
    "Boolean variables work exactly as they do in Java, with the one difference that \"True\" and \"False\" are capitalized in Python, and not in Java."
   ]
  },
  {
   "cell_type": "code",
   "execution_count": 13,
   "metadata": {},
   "outputs": [],
   "source": [
    "myBool = True\n",
    "yourBool = False"
   ]
  },
  {
   "cell_type": "markdown",
   "metadata": {},
   "source": [
    "If statements have the same basic structure as Java, however, they have a few syntactical differences. Firstly, the parenthesis around the condition are optional. They still can be used to signify order of comparisons, however. Secondly, the \"&&\", \"||\", and \"!\" operators do not exist in Python. They have been replaced by the \"and\", \"or\", and \"not\" keywords, respectively. Thirdly, there are no brackets around the code inside the if statment. Python uses indentation to determine what lines are part of what statements, so indent Python code as you would for readability in Java. Lastly, a colon is required at the end of an if statement to denote its end. I know this is a lot to take in, so please edit the following code until you understand how if statements work:"
   ]
  },
  {
   "cell_type": "code",
   "execution_count": 14,
   "metadata": {},
   "outputs": [
    {
     "name": "stdout",
     "output_type": "stream",
     "text": [
      "Condition one is True\n",
      "One of the conditions is true\n"
     ]
    }
   ],
   "source": [
    "condition = True\n",
    "otherCondition = False\n",
    "\n",
    "if condition:\n",
    "    print('Condition one is ' + str(condition))\n",
    "if condition or otherCondition:\n",
    "    print('One of the conditions is true') \n",
    "if condition and otherCondition:\n",
    "    print('Both of the conditions are true')\n",
    "if (not condition) or (condition and otherCondition):\n",
    "    print('Both of the conditions are false')"
   ]
  },
  {
   "cell_type": "markdown",
   "metadata": {},
   "source": [
    "The ==, >, <, >=, and <= operators are exactly the same as in Java, as are else statements. However, else if statements are denoted with the word \"elif\"."
   ]
  },
  {
   "cell_type": "code",
   "execution_count": 15,
   "metadata": {},
   "outputs": [
    {
     "name": "stdout",
     "output_type": "stream",
     "text": [
      "x is positive\n"
     ]
    }
   ],
   "source": [
    "x = 5\n",
    "if x > 0:\n",
    "    print('x is positive')\n",
    "elif x < 0:\n",
    "    print('x is negative')\n",
    "else:\n",
    "    print('x = 0')"
   ]
  },
  {
   "cell_type": "markdown",
   "metadata": {},
   "source": [
    "One thing I find myself using a lot is the ternary operator. Java has ternary operators as well, and though they are not often taught, I would like to mention them in this guide, as I find them quite helpful. The ternary operator is a little difficult to explain with words, and would likely just confuse you, so I'll leave it at an example:"
   ]
  },
  {
   "cell_type": "code",
   "execution_count": 16,
   "metadata": {},
   "outputs": [
    {
     "name": "stdout",
     "output_type": "stream",
     "text": [
      "5\n",
      "5\n"
     ]
    }
   ],
   "source": [
    "condition = True\n",
    "\n",
    "# This:\n",
    "x = 5 if condition else 10\n",
    "print(x)\n",
    "\n",
    "# Is the same as this:\n",
    "x = 10\n",
    "if condition:\n",
    "    x = 5\n",
    "print(x)"
   ]
  },
  {
   "cell_type": "markdown",
   "metadata": {},
   "source": [
    "## Chapter 4: Iterables\n",
    "An iterable is anything that a loop can iterate through (loops will be discussed in chapter 5). Strings, lists, and tuples are examples of commonly-used iterables in Python."
   ]
  },
  {
   "cell_type": "markdown",
   "metadata": {},
   "source": [
    "### Section 1: Lists\n",
    "Java has both arrays and ArrayLists, both of which have their pros and cons. Python simply has what are called \"lists\", and though they behave more like ArrayLists than arrays, lists are a completely different entity. Lists' lengths are not constant, and elements can be added or removed from them. Declare a list like this:"
   ]
  },
  {
   "cell_type": "code",
   "execution_count": 17,
   "metadata": {},
   "outputs": [],
   "source": [
    "l = [] # An empty list. Note that we cannot use the word \"list\" for a variable name, as it is a reserved keyword\n",
    "l = [1, 2, 3, 4] # A list of ints. Length is 4"
   ]
  },
  {
   "cell_type": "markdown",
   "metadata": {},
   "source": [
    "It is important to note that lists are not limited to contain only one data type. Lists can contain ints, floats, strings, booleans, tuples, objects, and more. Lists can even contain other lists, essentially turning them into a 2D array. To access/modify a specific element in a list use square brackets containing the index to access."
   ]
  },
  {
   "cell_type": "code",
   "execution_count": 18,
   "metadata": {},
   "outputs": [
    {
     "name": "stdout",
     "output_type": "stream",
     "text": [
      "1\n",
      "5\n"
     ]
    }
   ],
   "source": [
    "l = [1, 2.3, True, 'hello']\n",
    "print(l[0]) # Python starts counting at 0, so the element of l at index 0 is 1\n",
    "l[0] = 5    # Lists can be easily edited by editing a single element\n",
    "print(l[0]) # Proof the element at index 0 changed"
   ]
  },
  {
   "cell_type": "markdown",
   "metadata": {},
   "source": [
    "There are many ways to edit a list. Here are some useful list methods:"
   ]
  },
  {
   "cell_type": "code",
   "execution_count": 19,
   "metadata": {},
   "outputs": [
    {
     "name": "stdout",
     "output_type": "stream",
     "text": [
      "[1, 2, 3, 4]\n",
      "[1, 2, 3, 4, 5]\n",
      "[1, 2, 3, 4]\n",
      "[2, 3, 4]\n",
      "[1, 2, 3, 4]\n"
     ]
    }
   ],
   "source": [
    "l = [1, 2, 3, 4]\n",
    "print(l)\n",
    "\n",
    "l.append(5) # This adds a new element to the end of the list, in this case with the value of 5\n",
    "print(l)\n",
    "\n",
    "l.pop() # This removes the last element in the list. It also happens to return the value of the element it removed.\n",
    "print(l)\n",
    "\n",
    "l.pop(0) # The pop method has an optional parameter: the index at which to remove an element\n",
    "print(l)\n",
    "\n",
    "l.insert(0, 1) # Inserts an element at index (first parameter) of value (second parameter)\n",
    "print(l)"
   ]
  },
  {
   "cell_type": "markdown",
   "metadata": {},
   "source": [
    "### Section 2: Tuples\n",
    "Tuples can best be thought of as immutable strings. Like lists, tuples can contain any amount of any data type, however to edit the value of an element, you must redefine the whole tuple. Tuples are useful for returning multiple variables from a single function or method, or storing correlated values, such as coordinate points."
   ]
  },
  {
   "cell_type": "code",
   "execution_count": 20,
   "metadata": {},
   "outputs": [
    {
     "name": "stdout",
     "output_type": "stream",
     "text": [
      "(1, 2, 3)\n"
     ]
    }
   ],
   "source": [
    "tup = () # Defining an empty tuple\n",
    "tup = (1, 2, 3) # Defining a tuple of ints\n",
    "print(tup)"
   ]
  },
  {
   "cell_type": "markdown",
   "metadata": {},
   "source": [
    "Specific elements of tuples can be accessed the same way as elements in a list"
   ]
  },
  {
   "cell_type": "code",
   "execution_count": 21,
   "metadata": {},
   "outputs": [
    {
     "name": "stdout",
     "output_type": "stream",
     "text": [
      "hello\n"
     ]
    }
   ],
   "source": [
    "tup = ('hello', 'reader')\n",
    "print(tup[0])"
   ]
  },
  {
   "cell_type": "markdown",
   "metadata": {},
   "source": [
    "### Section 3: Strings\n",
    "Though we covered some aspects of strings in chapter 2, strings are also iterables, and can be treated as such. To find the length of a string, use the len() function. Like tuples, strings are immutable, but you can access a specific character the same way as you access an element in a list or tuple."
   ]
  },
  {
   "cell_type": "code",
   "execution_count": 22,
   "metadata": {},
   "outputs": [
    {
     "name": "stdout",
     "output_type": "stream",
     "text": [
      "T\n"
     ]
    }
   ],
   "source": [
    "string = 'The quick brown fox jumped over the lazy dog'\n",
    "print(string[0])"
   ]
  },
  {
   "cell_type": "markdown",
   "metadata": {},
   "source": [
    "### Section 4: Commonalities Among Iterables\n",
    "As you might have noticed, all iterables have a fair amount of similarities. To find the length of an iterable, use the len() function:"
   ]
  },
  {
   "cell_type": "code",
   "execution_count": 23,
   "metadata": {},
   "outputs": [
    {
     "name": "stdout",
     "output_type": "stream",
     "text": [
      "4\n",
      "3\n",
      "5\n"
     ]
    }
   ],
   "source": [
    "myList = [0, 1, 2, 3]\n",
    "myTup = (0, 1, 2)\n",
    "myStr = '01234'\n",
    "print(len(myList))\n",
    "print(len(myTup))\n",
    "print(len(myStr))"
   ]
  },
  {
   "cell_type": "markdown",
   "metadata": {},
   "source": [
    "You might have also noticed the identical syntax for accessing a single character:"
   ]
  },
  {
   "cell_type": "code",
   "execution_count": 24,
   "metadata": {},
   "outputs": [
    {
     "name": "stdout",
     "output_type": "stream",
     "text": [
      "0\n"
     ]
    }
   ],
   "source": [
    "myList = [0, 1, 2, 3]\n",
    "print(myList[0])"
   ]
  },
  {
   "cell_type": "markdown",
   "metadata": {},
   "source": [
    "As lists and tuples can contain other lists and tuples, it is possible to create \"two-dimensional\" lists and tuples. Depending on the application, it may be easier to think of two-dimensional lists and tuples as two-dimensional, or as they are stored: as a list of lists or as a tuple of tuples. To access an element in a two-dimensional list or tuple, simply add another set of square brackets. The first set indicates the index of the element in the outer list, and the second indicates the index of the element in the list at the first index."
   ]
  },
  {
   "cell_type": "code",
   "execution_count": 25,
   "metadata": {},
   "outputs": [
    {
     "name": "stdout",
     "output_type": "stream",
     "text": [
      "first\n",
      "second\n",
      "['first', 'list']\n"
     ]
    }
   ],
   "source": [
    "twoDList = [ ['first', 'list'], ['second', 'list'] ]\n",
    "element = twoDList[0][0] # This refers to \"first\" in the list at index 0 of twoDList, or the first list\n",
    "element1 = twoDList[1][0] # This refers to \"second\" in the list at index 1 of TwoDList, or the second list\n",
    "print(element)\n",
    "print(element1)\n",
    "\n",
    "# Note that if you only use one set of brackets, you get the entire list at the specified element of twoDList\n",
    "element2 = twoDList[0]\n",
    "print(element2)"
   ]
  },
  {
   "cell_type": "markdown",
   "metadata": {},
   "source": [
    "To access a segment of an iterable, use a colon inside the brackets. \\[1:3] refers to the elements at indicies 1 through three, where the first value is inclusive and the second value is exclusive. You can leave out either or both of the numbers if you desire. Leaving out the first value, such as \\[:3], is the same as doing \\[0:3]. Leaving out the second value, such as \\[3:], is the same as doing \\[3:len(iterable)]. Doing [:] will give you the while iterable."
   ]
  },
  {
   "cell_type": "code",
   "execution_count": 26,
   "metadata": {},
   "outputs": [
    {
     "name": "stdout",
     "output_type": "stream",
     "text": [
      "T\n",
      "This\n",
      "is a string\n",
      "This is a string\n"
     ]
    }
   ],
   "source": [
    "string = 'This is a string'\n",
    "print(string[0:1])\n",
    "print(string[:4])\n",
    "print(string[5:])\n",
    "print(string[:])"
   ]
  },
  {
   "cell_type": "markdown",
   "metadata": {},
   "source": [
    "## Chapter 5: Loops\n",
    "There are two types of loops in Python: for and while loops. They function the same as in Java, just obviously with different syntax.\n",
    "\n",
    "### Section 1: The For Loop\n",
    "The for loop introduces two new keywords: \"for\" and \"range\". \"for\" designates the type of loop, and \"range\" specifies how much to loop. Range has three parameters, two of which are optional. The first parameter is the starting value of whatever variable is declared to be the loop control variable. This parameter has a default value of 0 if not specified otherwise. The second parameter is the one required parameter: the stop value. A loop terminates when the loop control variable reaches this value. The third parameter is not required, and has a default value of 1. This parameter controls how much the loop control variable increments after each iteration of the loop."
   ]
  },
  {
   "cell_type": "code",
   "execution_count": 27,
   "metadata": {},
   "outputs": [
    {
     "name": "stdout",
     "output_type": "stream",
     "text": [
      "0\n",
      "1\n",
      "2\n",
      "3\n",
      "4\n",
      "5\n",
      "6\n",
      "7\n",
      "8\n",
      "9\n"
     ]
    }
   ],
   "source": [
    "start = 0\n",
    "stop = 10\n",
    "increment = 1\n",
    "\n",
    "# This Java loop:\n",
    "\n",
    "# for (int i = 0; i < 10; i++)\n",
    "#     System.out.println(i);\n",
    "\n",
    "# has this Python equivalent:\n",
    "for i in range(stop):\n",
    "    print(i)"
   ]
  },
  {
   "cell_type": "code",
   "execution_count": 28,
   "metadata": {},
   "outputs": [
    {
     "name": "stdout",
     "output_type": "stream",
     "text": [
      "0\n",
      "1\n",
      "2\n",
      "3\n",
      "4\n",
      "5\n",
      "6\n",
      "7\n",
      "8\n",
      "9\n"
     ]
    }
   ],
   "source": [
    "start = 0\n",
    "stop = 10\n",
    "increment = 1\n",
    "\n",
    "for i in range(start, stop):\n",
    "    print(i)"
   ]
  },
  {
   "cell_type": "code",
   "execution_count": 29,
   "metadata": {},
   "outputs": [
    {
     "name": "stdout",
     "output_type": "stream",
     "text": [
      "0\n",
      "1\n",
      "2\n",
      "3\n",
      "4\n",
      "5\n",
      "6\n",
      "7\n",
      "8\n",
      "9\n"
     ]
    }
   ],
   "source": [
    "start = 0\n",
    "stop = 10\n",
    "increment = 1\n",
    "\n",
    "for i in range(start, stop, increment):\n",
    "    print(i)"
   ]
  },
  {
   "cell_type": "markdown",
   "metadata": {},
   "source": [
    "These loop all do the same thing: count from 0 to 9, inclusive. However, you can also make a loop count backwards by making the start value larger than the stop value, and making the increment value negative."
   ]
  },
  {
   "cell_type": "code",
   "execution_count": 30,
   "metadata": {},
   "outputs": [
    {
     "name": "stdout",
     "output_type": "stream",
     "text": [
      "10\n",
      "9\n",
      "8\n",
      "7\n",
      "6\n",
      "5\n",
      "4\n",
      "3\n",
      "2\n",
      "1\n"
     ]
    }
   ],
   "source": [
    "for i in range(10, 0, -1):\n",
    "    print(i)"
   ]
  },
  {
   "cell_type": "markdown",
   "metadata": {},
   "source": [
    "Note that the start value is included in the values of i, and the stop value isn't."
   ]
  },
  {
   "cell_type": "markdown",
   "metadata": {},
   "source": [
    "### Section 2: The While Loop\n",
    "While loops work the same in Python as they do in Java, and with a much more similar syntax then for loops. The only differences between Java and Python while loops are that the bracket has been replaced by a colon, and like if statements, the parenthesis around the condition are optional. While loops will continue to iterate while the condition is true."
   ]
  },
  {
   "cell_type": "code",
   "execution_count": 31,
   "metadata": {},
   "outputs": [
    {
     "name": "stdout",
     "output_type": "stream",
     "text": [
      "0\n",
      "1\n",
      "2\n",
      "3\n",
      "4\n",
      "5\n",
      "6\n",
      "7\n",
      "8\n",
      "9\n"
     ]
    }
   ],
   "source": [
    "x = 0\n",
    "while x < 10: # The condition is x < 10. As long as x is less than 10, the loop will continue to iterate.\n",
    "    print(x)\n",
    "    x += 1 # Note that the ++ and -- operators do not exist in Python"
   ]
  },
  {
   "cell_type": "markdown",
   "metadata": {},
   "source": [
    "### Section 3: Iterating Through an Iterable\n",
    "Loops are commonly used to perform an operation on all elements of a list. The obvious way to do this is to iterate through the indicies of the list and perform that operation on the element at that index, as demonstrated below:"
   ]
  },
  {
   "cell_type": "code",
   "execution_count": 32,
   "metadata": {},
   "outputs": [
    {
     "name": "stdout",
     "output_type": "stream",
     "text": [
      "[1, 4, 7, 3, 9, 2]\n",
      "[2, 8, 14, 6, 18, 4]\n"
     ]
    }
   ],
   "source": [
    "myList = [1, 4, 7, 3, 9, 2]\n",
    "print(myList)\n",
    "for i in range(len(myList)): # This will give i the values from 0 to the length of the list, and terminate the loop when i reaches a value equal to the length of the list.\n",
    "    myList[i] *= 2 # Using the *= operator like this is the same as myList[i] = myList[i]*2. +=, -=, and /= operators exist as well.\n",
    "print(myList)"
   ]
  },
  {
   "cell_type": "markdown",
   "metadata": {},
   "source": [
    "However, iterables are called iterables for a reason: you can loop through them! By replacing the range() function with an iterable, the loop control variable now changes its value to be that at whatever index the loop is accessing at the current iteration. However, the loop control variable merely has the same value as that element of the list, and isn't a pointer to that element. This means we cannot use this method to perform an operation on every element of a list, but it's quite useful for reading the value of a list!"
   ]
  },
  {
   "cell_type": "code",
   "execution_count": 33,
   "metadata": {},
   "outputs": [
    {
     "name": "stdout",
     "output_type": "stream",
     "text": [
      "[1, 4, 7, 3, 9, 2]\n",
      "1, 4, 7, 3, 9, 2, \b\b\n"
     ]
    }
   ],
   "source": [
    "myList = [1, 4, 7, 3, 9, 2]\n",
    "print(myList)\n",
    "for i in myList: # i will have the values of 1, 4, 7, 3, 9, 2, in that order\n",
    "    print(i, end=', ')\n",
    "print('\\b\\b')"
   ]
  },
  {
   "cell_type": "markdown",
   "metadata": {},
   "source": [
    "## Chapter 6: Useful Tips and Tricks\n",
    "Python is full of unexpected ways to make tasks simpler and more readable. Say, for example, you wanted to initialize a lot of variables at once. You could do this over many lines, though Python allows you to do it all on one line!"
   ]
  },
  {
   "cell_type": "code",
   "execution_count": 34,
   "metadata": {},
   "outputs": [
    {
     "name": "stdout",
     "output_type": "stream",
     "text": [
      "1 2.3 True hello [1, 5, 3]\n"
     ]
    }
   ],
   "source": [
    "a, b, c, d, e = 1, 2.3, True, 'hello', [1, 5, 3]\n",
    "print(a, b, c, d, e)"
   ]
  },
  {
   "cell_type": "markdown",
   "metadata": {},
   "source": [
    "This behavior is useful for swapping the values of two variables. In most languages, you would have to do something like this:"
   ]
  },
  {
   "cell_type": "code",
   "execution_count": 35,
   "metadata": {},
   "outputs": [
    {
     "name": "stdout",
     "output_type": "stream",
     "text": [
      "1 2\n",
      "2 1\n"
     ]
    }
   ],
   "source": [
    "a, b = 1, 2\n",
    "print(a, b)\n",
    "c = b\n",
    "b = a\n",
    "a = c\n",
    "print(a, b)"
   ]
  },
  {
   "cell_type": "markdown",
   "metadata": {},
   "source": [
    "By using a single line to define multiple variables, you can swap the values of a and b in one line and without a third temporary variable! Note, however, that the process Python uses to do this is the same as the above method, though it looks a lot cleaner in code."
   ]
  },
  {
   "cell_type": "code",
   "execution_count": 36,
   "metadata": {},
   "outputs": [
    {
     "name": "stdout",
     "output_type": "stream",
     "text": [
      "1 2\n",
      "2 1\n"
     ]
    }
   ],
   "source": [
    "a, b = 1, 2\n",
    "print(a, b)\n",
    "a, b = b, a\n",
    "print(a, b)"
   ]
  },
  {
   "cell_type": "markdown",
   "metadata": {},
   "source": [
    "## Chapter X: The Numpy Module"
   ]
  }
 ],
 "metadata": {
  "kernelspec": {
   "display_name": "Python 3",
   "language": "python",
   "name": "python3"
  },
  "language_info": {
   "codemirror_mode": {
    "name": "ipython",
    "version": 3
   },
   "file_extension": ".py",
   "mimetype": "text/x-python",
   "name": "python",
   "nbconvert_exporter": "python",
   "pygments_lexer": "ipython3",
   "version": "3.6.5"
  }
 },
 "nbformat": 4,
 "nbformat_minor": 2
}
