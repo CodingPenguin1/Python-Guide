{
 "cells": [
  {
   "cell_type": "markdown",
   "metadata": {},
   "source": [
    "# Introductory Python Tutorial for Java Users\n",
    "### Ryan J. Slater\n",
    "\n",
    "This guide is designed to be an introduction to the fundamentals of the Python language, with the basics of some useful modules as well. It is designed for programmers who know Java, with the intention of introducing imperative programming and the largely different syntax of Python. As you read through this guide, experiment by changing any lines of code as you wish, then press Shift+Enter to run that line alone. While this guide is fairly comprehensive, it does not cover all aspects of Python (which would frankly be quite near impossible anyways), so self-experimentation and discovery is essential. This guide is broken into many chapters, each of which focuses on a specific topic necessary to understanding the Python language. Some chapters are broken into sections to explain subtopics in more detail."
   ]
  },
  {
   "cell_type": "markdown",
   "metadata": {},
   "source": [
    "## Chapter 1: Numerical Data Types and Basic Mathematical Operations\n",
    "\n",
    "Java contains many numerical data types, such as ints, doubles, floats, shorts, and longs. In Python, this is not the case. There are simply ints and floats. Unlike Java, there is no max size for an either, meaning that an int or float can have a value near infinity. Note there is no need to begin a line by declaring a variable type, as Python automatically determines the variable type from the value assigned. Also note that Python syntax is based of indentation, (you will learn about indenting in chapter 3) so no semicolon is needed at the end of each line."
   ]
  },
  {
   "cell_type": "code",
   "execution_count": 83,
   "metadata": {},
   "outputs": [],
   "source": [
    "x = 5 # This is the equivalent of: int x = 5;\n",
    "y = 10.5 # This is the eqivalent of: double y = 10.5;"
   ]
  },
  {
   "cell_type": "markdown",
   "metadata": {},
   "source": [
    "Excluding exponents, basic math is done the same as in Java. Again, note that there is no need to declare variable types, as Python handles variable types automatically."
   ]
  },
  {
   "cell_type": "code",
   "execution_count": 4,
   "metadata": {},
   "outputs": [
    {
     "name": "stdout",
     "output_type": "stream",
     "text": [
      "3\n",
      "1\n",
      "6\n",
      "0.6666666666666666\n",
      "1\n",
      "9\n"
     ]
    }
   ],
   "source": [
    "print(1 + 2) # Addition\n",
    "print(2 - 1) # Subtraction\n",
    "print(2 * 3) # Multiplication\n",
    "print(2 / 3) # Division (note int/int=float in this example)\n",
    "print(3 % 2) # Modulus\n",
    "print(3 ** 2) # Exponents, format: base**exponent"
   ]
  },
  {
   "cell_type": "markdown",
   "metadata": {},
   "source": [
    "To cast a variable as an int or float, use the int() or float() functions, respectively."
   ]
  },
  {
   "cell_type": "code",
   "execution_count": 85,
   "metadata": {},
   "outputs": [],
   "source": [
    "x = int(x)\n",
    "y = float(y)"
   ]
  },
  {
   "cell_type": "markdown",
   "metadata": {},
   "source": [
    "## Chapter 2: Strings and Printing\n",
    "Strings are declared with the same syntax as ints and floats. Like Java, use double quotes (\" \") to declare a string. However, unlike Java, single quotes (' ') can also be used to declare a string. This is because that there is no char variable type in Python."
   ]
  },
  {
   "cell_type": "code",
   "execution_count": 86,
   "metadata": {},
   "outputs": [],
   "source": [
    "myString = \"Hello lovely reader\"\n",
    "mySecondString = 'I hope you are enjoying this guide so far!'"
   ]
  },
  {
   "cell_type": "markdown",
   "metadata": {},
   "source": [
    "Escape characters are the same as in Java. For example:\n",
    "* \\n - newline\n",
    "* \\t - tab\n",
    "* \\b - backspace\n",
    "* \\\\ - backslash\n",
    "* \\\" - double quote (useful if adding a double quote in a string declared with double quotes)\n",
    "* \\' - single quote (useful if adding a single quote in a string declared with single quotes)"
   ]
  },
  {
   "cell_type": "code",
   "execution_count": 87,
   "metadata": {},
   "outputs": [
    {
     "name": "stdout",
     "output_type": "stream",
     "text": [
      "Dear Reader,\n",
      "\n",
      "I'm enjoying writing this guide for you.\n",
      "One of my friends once asked, \"Why would you learn Python instead of Java?\"\n",
      "That's what inspired me to write this guidee\b.\n",
      "I hope you enjoy it and gain some valuable knowledge about the benefits of Python!\n",
      "\n",
      "\tSincerely,\n",
      "\tRyan Slater\n"
     ]
    }
   ],
   "source": [
    "print('Dear Reader,\\n')\n",
    "print('I\\'m enjoying writing this guide for you.')\n",
    "print(\"One of my friends once asked, \\\"Why would you learn Python instead of Java?\\\"\")\n",
    "print('That\\'s what inspired me to write this guidee\\b.')\n",
    "print('I hope you enjoy it and gain some valuable knowledge about the benefits of Python!')\n",
    "print('\\n\\tSincerely,\\n\\tRyan Slater')"
   ]
  },
  {
   "cell_type": "markdown",
   "metadata": {},
   "source": [
    "So if print() is the Python equivalent of Java's System.out.println(), then what's the Python equivalent of System.out.print()? Well, Python does have a way of printing a string without a newline attached, though I must admit it's a little uglier than Java's way."
   ]
  },
  {
   "cell_type": "code",
   "execution_count": 88,
   "metadata": {},
   "outputs": [
    {
     "name": "stdout",
     "output_type": "stream",
     "text": [
      "These two lines of code will be printed on on line\n"
     ]
    }
   ],
   "source": [
    "print('These two lines of code ', end='')\n",
    "print('will be printed on on line')"
   ]
  },
  {
   "cell_type": "markdown",
   "metadata": {},
   "source": [
    "Though this may seem unnecessary at first, it actually introduces new functionality to the print statement. The default value of \"end\" is '\\n', so the following two lines are equivalent."
   ]
  },
  {
   "cell_type": "code",
   "execution_count": 89,
   "metadata": {},
   "outputs": [
    {
     "name": "stdout",
     "output_type": "stream",
     "text": [
      "This is a standard print statement\n",
      "This is a standard print statement\n",
      "See? I was printed on a third line as expected\n"
     ]
    }
   ],
   "source": [
    "print('This is a standard print statement')\n",
    "print('This is a standard print statement', end='\\n')\n",
    "print('See? I was printed on a third line as expected')"
   ]
  },
  {
   "cell_type": "markdown",
   "metadata": {},
   "source": [
    "This functionality is useful for many things. Say, for example, you wanted to print a table. You could do the following:"
   ]
  },
  {
   "cell_type": "code",
   "execution_count": 90,
   "metadata": {},
   "outputs": [
    {
     "name": "stdout",
     "output_type": "stream",
     "text": [
      "How does my AP Computer Science class rate Python?\n",
      "\n",
      "Rating\t\t | 1 | 2 | 3 | 4 | 5 | \n",
      "-----------------+---+---+---+---+---+\n",
      "# of students\t | 0 | 0 | 3 | 2 | 8 | "
     ]
    }
   ],
   "source": [
    "print('How does my AP Computer Science class rate Python?\\n')\n",
    "print('Rating\\t\\t', end=' | ')\n",
    "print('1', end=' | ')\n",
    "print('2', end=' | ')\n",
    "print('3', end=' | ')\n",
    "print('4', end=' | ')\n",
    "print('5', end=' | ')\n",
    "print('\\n-----------------+---+---+---+---+---+')\n",
    "print('# of students\\t', end=' | ')\n",
    "print('0', end=' | ')\n",
    "print('0', end=' | ')\n",
    "print('3', end=' | ')\n",
    "print('2', end=' | ')\n",
    "print('8', end=' | ')"
   ]
  },
  {
   "cell_type": "markdown",
   "metadata": {},
   "source": [
    "That's looking great, but I can't do anything with those numbers! They're just hardcoded strings! How do I print nonstring variables? Python can print variables in two ways: alone or concatenated with a string. Here is how to print one or more variables without formatting (useful for debugging by printing multiple variables one one line):"
   ]
  },
  {
   "cell_type": "code",
   "execution_count": 91,
   "metadata": {},
   "outputs": [
    {
     "name": "stdout",
     "output_type": "stream",
     "text": [
      "5\n",
      "5 10.5\n",
      "5 10.5 10.3\n"
     ]
    }
   ],
   "source": [
    "x = 5\n",
    "y = 10.5\n",
    "print(x)          # Printing just one variable\n",
    "print(x, y)       # Printing two variables in one line. The comma adds space between the two. \n",
    "print(x, y, 10.3) # Add more commas and variables to print more variables on one line"
   ]
  },
  {
   "cell_type": "markdown",
   "metadata": {},
   "source": [
    "Python uses the same syntax for string concatenation as Java:"
   ]
  },
  {
   "cell_type": "code",
   "execution_count": 92,
   "metadata": {},
   "outputs": [
    {
     "name": "stdout",
     "output_type": "stream",
     "text": [
      "Hello there\n"
     ]
    }
   ],
   "source": [
    "combo = 'Hello ' + 'there'\n",
    "print(combo)"
   ]
  },
  {
   "cell_type": "markdown",
   "metadata": {},
   "source": [
    "However, to print a string and a nonstring through concatenation, you must cast the nonstring to a string first. This is not true with Java, and admittedly a nice feature I with Python supported. To cast a variable as a string in Python, use the str() function. Below is the Python equivalent of this Java code:\n",
    "\n",
    "int x = 5;<br>System.out.println(\"x = \" + x);<br>System.out.println(x + \" - 3 = \" + (x-3));"
   ]
  },
  {
   "cell_type": "code",
   "execution_count": 93,
   "metadata": {},
   "outputs": [
    {
     "name": "stdout",
     "output_type": "stream",
     "text": [
      "x = 5\n",
      "5 - 3 = 2\n"
     ]
    }
   ],
   "source": [
    "x = 5\n",
    "print('x = ' + str(x))\n",
    "print(str(x) + ' - 3 = ' + str(x-3))"
   ]
  },
  {
   "cell_type": "markdown",
   "metadata": {},
   "source": [
    "## Chapter 3: Boolean Variables and if Statements\n",
    "Boolean variables work exactly as they do in Java, with the one difference that \"True\" and \"False\" are capitalized in Python, and not in Java."
   ]
  },
  {
   "cell_type": "code",
   "execution_count": 94,
   "metadata": {},
   "outputs": [],
   "source": [
    "myBool = True\n",
    "yourBool = False"
   ]
  },
  {
   "cell_type": "markdown",
   "metadata": {},
   "source": [
    "If statements have the same basic structure as Java, however, they have a few syntactical differences. Firstly, the parenthesis around the condition are optional. They still can be used to signify order of comparisons, however. Secondly, the \"&&\", \"||\", and \"!\" operators do not exist in Python. They have been replaced by the \"and\", \"or\", and \"not\" keywords, respectively. Thirdly, there are no brackets around the code inside the if statment. Python uses indentation to determine what lines are part of what statements, so indent Python code as you would for readability in Java. Lastly, a colon is required at the end of an if statement to denote its end. I know this is a lot to take in, so please edit the following code until you understand how if statements work:"
   ]
  },
  {
   "cell_type": "code",
   "execution_count": 95,
   "metadata": {},
   "outputs": [
    {
     "name": "stdout",
     "output_type": "stream",
     "text": [
      "Condition one is True\n",
      "One of the conditions is true\n"
     ]
    }
   ],
   "source": [
    "condition = True\n",
    "otherCondition = False\n",
    "\n",
    "if condition:\n",
    "    print('Condition one is ' + str(condition))\n",
    "if condition or otherCondition:\n",
    "    print('One of the conditions is true') \n",
    "if condition and otherCondition:\n",
    "    print('Both of the conditions are true')\n",
    "if (not condition) or (condition and otherCondition):\n",
    "    print('Both of the conditions are false')"
   ]
  },
  {
   "cell_type": "markdown",
   "metadata": {},
   "source": [
    "The ==, >, <, >=, and <= operators are exactly the same as in Java, as are else statements. However, else if statements are denoted with the word \"elif\"."
   ]
  },
  {
   "cell_type": "code",
   "execution_count": 96,
   "metadata": {},
   "outputs": [
    {
     "name": "stdout",
     "output_type": "stream",
     "text": [
      "x is positive\n"
     ]
    }
   ],
   "source": [
    "x = 5\n",
    "if x > 0:\n",
    "    print('x is positive')\n",
    "elif x < 0:\n",
    "    print('x is negative')\n",
    "else:\n",
    "    print('x = 0')"
   ]
  },
  {
   "cell_type": "markdown",
   "metadata": {},
   "source": [
    "One thing I find myself using a lot is the ternary operator. Java has ternary operators as well, and though they are not often taught, I would like to mention them in this guide, as I find them quite helpful. The ternary operator is a little difficult to explain with words, and would likely just confuse you, so I'll leave it at an example:"
   ]
  },
  {
   "cell_type": "code",
   "execution_count": 97,
   "metadata": {},
   "outputs": [
    {
     "name": "stdout",
     "output_type": "stream",
     "text": [
      "5\n",
      "5\n"
     ]
    }
   ],
   "source": [
    "condition = True\n",
    "\n",
    "# This:\n",
    "x = 5 if condition else 10\n",
    "print(x)\n",
    "\n",
    "# Is the same as this:\n",
    "x = 10\n",
    "if condition:\n",
    "    x = 5\n",
    "print(x)"
   ]
  },
  {
   "cell_type": "markdown",
   "metadata": {},
   "source": [
    "## Chapter 4: Iterables\n",
    "An iterable is anything that a loop can iterate through (see chapter 5). Strings, lists, and tuples are examples of commonly-used iterables in Python. All iterables have a length, which can be found by using the len() function. For example:"
   ]
  },
  {
   "cell_type": "code",
   "execution_count": 106,
   "metadata": {},
   "outputs": [
    {
     "name": "stdout",
     "output_type": "stream",
     "text": [
      "16\n"
     ]
    }
   ],
   "source": [
    "s = 'This is a string'\n",
    "print(len(s))"
   ]
  },
  {
   "cell_type": "markdown",
   "metadata": {},
   "source": [
    "Lists, tuples, and to a lesser extent, strings, will be explained in this chapter."
   ]
  },
  {
   "cell_type": "markdown",
   "metadata": {},
   "source": [
    "### Section 1: Lists\n",
    "Java has both arrays and ArrayLists, both of which have their pros and cons. Python simply has what are called \"lists\", and though they behave more like ArrayLists than arrays, lists are a completely different entity. Lists' lengths are not constant, and elements can be added or removed from them. Declare a list like this:"
   ]
  },
  {
   "cell_type": "code",
   "execution_count": 102,
   "metadata": {},
   "outputs": [],
   "source": [
    "l = [] # An empty list. Note that we cannot use the word \"list\" for a variable name, as it is a reserved keyword\n",
    "l = [1, 2, 3, 4] # A list of ints. Length is 4"
   ]
  },
  {
   "cell_type": "markdown",
   "metadata": {},
   "source": [
    "It is important to note that lists are not limited to contain only one data type. Lists can contain ints, floats, strings, booleans, objects, and more. Lists can even contain other lists, essentially turning them into a 2D array. To access/modify a specific element in a list use square brackets containing the index to access."
   ]
  },
  {
   "cell_type": "code",
   "execution_count": 107,
   "metadata": {},
   "outputs": [
    {
     "name": "stdout",
     "output_type": "stream",
     "text": [
      "1\n",
      "5\n"
     ]
    }
   ],
   "source": [
    "l = [1, 2.3, True, 'hello']\n",
    "print(l[0]) # Python starts counting at 0, so the element of l at index 0 is 1\n",
    "l[0] = 5    # Lists can be easily edited by editing a single element\n",
    "print(l[0]) # Proof the element at index 0 changed"
   ]
  },
  {
   "cell_type": "markdown",
   "metadata": {},
   "source": [
    "There are many ways to edit a list. Here are some useful methods:"
   ]
  },
  {
   "cell_type": "code",
   "execution_count": 5,
   "metadata": {},
   "outputs": [
    {
     "name": "stdout",
     "output_type": "stream",
     "text": [
      "[1, 2, 3, 4]\n",
      "[1, 2, 3, 4, 5]\n",
      "[1, 2, 3, 4]\n",
      "[2, 3, 4]\n",
      "[1, 2, 3, 4]\n"
     ]
    }
   ],
   "source": [
    "l = [1, 2, 3, 4]\n",
    "print(l)\n",
    "\n",
    "l.append(5) # This adds a new element to the end of the list, in this case with the value of 5\n",
    "print(l)\n",
    "\n",
    "l.pop() # This removes the last element in the list. It also happens to return the value of the element it removed.\n",
    "print(l)\n",
    "\n",
    "l.pop(0) # The pop method has an optional parameter: the index at which to remove an element\n",
    "print(l)\n",
    "\n",
    "l.insert(0, 1) # Inserts an element at index (first parameter) of value (second parameter)\n",
    "print(l)"
   ]
  },
  {
   "cell_type": "markdown",
   "metadata": {},
   "source": [
    "Tuples, strings"
   ]
  },
  {
   "cell_type": "markdown",
   "metadata": {},
   "source": [
    "## Chapter 5: Loops\n",
    "\n",
    "### Section 1: Iterating Within a Range\n",
    "make sure to change all elements in a list by iterating through index"
   ]
  },
  {
   "cell_type": "markdown",
   "metadata": {},
   "source": [
    "### Section 2: Iterating Through an Iterable\n",
    "change all elements in a list by iterating through iterable list"
   ]
  },
  {
   "cell_type": "markdown",
   "metadata": {},
   "source": [
    "## Chapter X: The Numpy Module"
   ]
  },
  {
   "cell_type": "code",
   "execution_count": 98,
   "metadata": {},
   "outputs": [
    {
     "ename": "NameError",
     "evalue": "name 'b' is not defined",
     "output_type": "error",
     "traceback": [
      "\u001b[0;31m---------------------------------------------------------------------------\u001b[0m",
      "\u001b[0;31mNameError\u001b[0m                                 Traceback (most recent call last)",
      "\u001b[0;32m<ipython-input-98-b0d9c13673d1>\u001b[0m in \u001b[0;36m<module>\u001b[0;34m()\u001b[0m\n\u001b[0;32m----> 1\u001b[0;31m \u001b[0ma\u001b[0m\u001b[0;34m,\u001b[0m \u001b[0mb\u001b[0m \u001b[0;34m=\u001b[0m \u001b[0mb\u001b[0m\u001b[0;34m,\u001b[0m \u001b[0ma\u001b[0m\u001b[0;34m\u001b[0m\u001b[0m\n\u001b[0m",
      "\u001b[0;31mNameError\u001b[0m: name 'b' is not defined"
     ]
    }
   ],
   "source": [
    "a, b = b, a"
   ]
  }
 ],
 "metadata": {
  "kernelspec": {
   "display_name": "Python 3",
   "language": "python",
   "name": "python3"
  },
  "language_info": {
   "codemirror_mode": {
    "name": "ipython",
    "version": 3
   },
   "file_extension": ".py",
   "mimetype": "text/x-python",
   "name": "python",
   "nbconvert_exporter": "python",
   "pygments_lexer": "ipython3",
   "version": "3.6.5"
  }
 },
 "nbformat": 4,
 "nbformat_minor": 2
}
